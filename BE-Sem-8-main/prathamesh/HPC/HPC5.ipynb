{
  "cells": [
    {
      "cell_type": "code",
      "execution_count": 1,
      "metadata": {
        "colab": {
          "base_uri": "https://localhost:8080/"
        },
        "id": "RF2fIOUOlq6v",
        "outputId": "54313d98-3edc-40b5-e852-619d59096697"
      },
      "outputs": [
        {
          "name": "stderr",
          "output_type": "stream",
          "text": [
            "'apt-get' is not recognized as an internal or external command,\n",
            "operable program or batch file.\n"
          ]
        },
        {
          "name": "stderr",
          "output_type": "stream",
          "text": [
            "'apt-get' is not recognized as an internal or external command,\n",
            "operable program or batch file.\n"
          ]
        },
        {
          "name": "stdout",
          "output_type": "stream",
          "text": [
            "Requirement already satisfied: mpi4py in c:\\users\\adesh punde\\appdata\\local\\programs\\python\\python312\\lib\\site-packages (4.0.3)"
          ]
        },
        {
          "name": "stderr",
          "output_type": "stream",
          "text": [
            "\n",
            "[notice] A new release of pip is available: 25.0.1 -> 25.1.1\n",
            "[notice] To update, run: python.exe -m pip install --upgrade pip\n"
          ]
        },
        {
          "name": "stdout",
          "output_type": "stream",
          "text": [
            "\n"
          ]
        }
      ],
      "source": [
        "!apt-get update -qq\n",
        "!apt-get install -y libopenmpi-dev openmpi-bin openmpi-common\n",
        "!pip install mpi4py"
      ]
    },
    {
      "cell_type": "code",
      "execution_count": 2,
      "metadata": {
        "colab": {
          "base_uri": "https://localhost:8080/"
        },
        "id": "FbJlglm-jrBP",
        "outputId": "307060de-d0c9-453b-cbc7-38d353a0eed0"
      },
      "outputs": [
        {
          "ename": "RuntimeError",
          "evalue": "cannot load MPI library\nCould not find module 'C:\\Users\\Adesh Punde\\AppData\\Roaming\\Python\\DLLs' (or one of its dependencies). Try using the full path with constructor syntax.\nCould not find module 'C:\\Users\\Adesh Punde\\AppData\\Roaming\\Python\\Library\\bin' (or one of its dependencies). Try using the full path with constructor syntax.\nCould not find module 'c:\\Users\\Adesh Punde\\AppData\\Local\\Programs\\Python\\Python312\\DLLs\\impi.dll' (or one of its dependencies). Try using the full path with constructor syntax.\nCould not find module 'c:\\Users\\Adesh Punde\\AppData\\Local\\Programs\\Python\\Python312\\DLLs\\msmpi.dll' (or one of its dependencies). Try using the full path with constructor syntax.\nCould not find module 'c:\\Users\\Adesh Punde\\AppData\\Local\\Programs\\Python\\Python312\\Library\\bin' (or one of its dependencies). Try using the full path with constructor syntax.\nCould not find module 'impi.dll' (or one of its dependencies). Try using the full path with constructor syntax.\nCould not find module 'msmpi.dll' (or one of its dependencies). Try using the full path with constructor syntax.",
          "output_type": "error",
          "traceback": [
            "\u001b[1;31m---------------------------------------------------------------------------\u001b[0m",
            "\u001b[1;31mRuntimeError\u001b[0m                              Traceback (most recent call last)",
            "Cell \u001b[1;32mIn[2], line 2\u001b[0m\n\u001b[0;32m      1\u001b[0m \u001b[38;5;28;01mimport\u001b[39;00m \u001b[38;5;21;01mtensorflow\u001b[39;00m \u001b[38;5;28;01mas\u001b[39;00m \u001b[38;5;21;01mtf\u001b[39;00m\n\u001b[1;32m----> 2\u001b[0m \u001b[38;5;28;01mfrom\u001b[39;00m \u001b[38;5;21;01mmpi4py\u001b[39;00m \u001b[38;5;28;01mimport\u001b[39;00m MPI\n\u001b[0;32m      4\u001b[0m \u001b[38;5;66;03m# Initialize MPI\u001b[39;00m\n\u001b[0;32m      5\u001b[0m comm \u001b[38;5;241m=\u001b[39m MPI\u001b[38;5;241m.\u001b[39mCOMM_WORLD\n",
            "File \u001b[1;32m<frozen importlib._bootstrap>:1360\u001b[0m, in \u001b[0;36m_find_and_load\u001b[1;34m(name, import_)\u001b[0m\n",
            "File \u001b[1;32m<frozen importlib._bootstrap>:1322\u001b[0m, in \u001b[0;36m_find_and_load_unlocked\u001b[1;34m(name, import_)\u001b[0m\n",
            "File \u001b[1;32m<frozen importlib._bootstrap>:1262\u001b[0m, in \u001b[0;36m_find_spec\u001b[1;34m(name, path, target)\u001b[0m\n",
            "File \u001b[1;32mc:\\Users\\Adesh Punde\\AppData\\Local\\Programs\\Python\\Python312\\Lib\\site-packages\\mpi4py\\_mpiabi.py:246\u001b[0m, in \u001b[0;36m_Finder.find_spec\u001b[1;34m(cls, fullname, path, target)\u001b[0m\n\u001b[0;32m    244\u001b[0m \u001b[38;5;250m\u001b[39m\u001b[38;5;124;03m\"\"\"Find MPI ABI extension module spec.\"\"\"\u001b[39;00m\n\u001b[0;32m    245\u001b[0m \u001b[38;5;66;03m# pylint: disable=unused-argument\u001b[39;00m\n\u001b[1;32m--> 246\u001b[0m mpiabi_suffix \u001b[38;5;241m=\u001b[39m \u001b[43m_get_mpiabi_suffix\u001b[49m\u001b[43m(\u001b[49m\u001b[43mfullname\u001b[49m\u001b[43m)\u001b[49m\n\u001b[0;32m    247\u001b[0m \u001b[38;5;28;01mif\u001b[39;00m mpiabi_suffix \u001b[38;5;129;01mis\u001b[39;00m \u001b[38;5;28;01mNone\u001b[39;00m:\n\u001b[0;32m    248\u001b[0m     \u001b[38;5;28;01mreturn\u001b[39;00m \u001b[38;5;28;01mNone\u001b[39;00m\n",
            "File \u001b[1;32mc:\\Users\\Adesh Punde\\AppData\\Local\\Programs\\Python\\Python312\\Lib\\site-packages\\mpi4py\\_mpiabi.py:228\u001b[0m, in \u001b[0;36m_get_mpiabi_suffix\u001b[1;34m(module)\u001b[0m\n\u001b[0;32m    226\u001b[0m \u001b[38;5;28;01mif\u001b[39;00m module \u001b[38;5;129;01mnot\u001b[39;00m \u001b[38;5;129;01min\u001b[39;00m _registry:\n\u001b[0;32m    227\u001b[0m     \u001b[38;5;28;01mreturn\u001b[39;00m \u001b[38;5;28;01mNone\u001b[39;00m\n\u001b[1;32m--> 228\u001b[0m version, family \u001b[38;5;241m=\u001b[39m \u001b[43m_get_mpiabi\u001b[49m\u001b[43m(\u001b[49m\u001b[43m)\u001b[49m\n\u001b[0;32m    229\u001b[0m versions \u001b[38;5;241m=\u001b[39m _registry[module]\u001b[38;5;241m.\u001b[39mget(family)\n\u001b[0;32m    230\u001b[0m \u001b[38;5;28;01mif\u001b[39;00m versions:\n",
            "File \u001b[1;32mc:\\Users\\Adesh Punde\\AppData\\Local\\Programs\\Python\\Python312\\Lib\\site-packages\\mpi4py\\_mpiabi.py:209\u001b[0m, in \u001b[0;36m_get_mpiabi\u001b[1;34m()\u001b[0m\n\u001b[0;32m    207\u001b[0m     version, family \u001b[38;5;241m=\u001b[39m _get_mpiabi_from_string(string)\n\u001b[0;32m    208\u001b[0m \u001b[38;5;28;01melse\u001b[39;00m:\n\u001b[1;32m--> 209\u001b[0m     version, family \u001b[38;5;241m=\u001b[39m \u001b[43m_get_mpiabi_from_libmpi\u001b[49m\u001b[43m(\u001b[49m\u001b[43mlibmpi\u001b[49m\u001b[43m)\u001b[49m\n\u001b[0;32m    210\u001b[0m _get_mpiabi\u001b[38;5;241m.\u001b[39mversion \u001b[38;5;241m=\u001b[39m version  \u001b[38;5;66;03m# pyright: ignore\u001b[39;00m\n\u001b[0;32m    211\u001b[0m _get_mpiabi\u001b[38;5;241m.\u001b[39mfamily \u001b[38;5;241m=\u001b[39m family  \u001b[38;5;66;03m# pyright: ignore\u001b[39;00m\n",
            "File \u001b[1;32mc:\\Users\\Adesh Punde\\AppData\\Local\\Programs\\Python\\Python312\\Lib\\site-packages\\mpi4py\\_mpiabi.py:153\u001b[0m, in \u001b[0;36m_get_mpiabi_from_libmpi\u001b[1;34m(libmpi)\u001b[0m\n\u001b[0;32m    150\u001b[0m \u001b[38;5;28;01mdef\u001b[39;00m \u001b[38;5;21m_get_mpiabi_from_libmpi\u001b[39m(libmpi\u001b[38;5;241m=\u001b[39m\u001b[38;5;28;01mNone\u001b[39;00m):\n\u001b[0;32m    151\u001b[0m     \u001b[38;5;66;03m# pylint: disable=import-outside-toplevel\u001b[39;00m\n\u001b[0;32m    152\u001b[0m     \u001b[38;5;28;01mimport\u001b[39;00m \u001b[38;5;21;01mctypes\u001b[39;00m \u001b[38;5;28;01mas\u001b[39;00m \u001b[38;5;21;01mct\u001b[39;00m\n\u001b[1;32m--> 153\u001b[0m     lib \u001b[38;5;241m=\u001b[39m \u001b[43m_dlopen_libmpi\u001b[49m\u001b[43m(\u001b[49m\u001b[43mlibmpi\u001b[49m\u001b[43m)\u001b[49m\n\u001b[0;32m    154\u001b[0m     lib\u001b[38;5;241m.\u001b[39mMPI_Get_version\u001b[38;5;241m.\u001b[39mrestype \u001b[38;5;241m=\u001b[39m ct\u001b[38;5;241m.\u001b[39mc_int\n\u001b[0;32m    155\u001b[0m     lib\u001b[38;5;241m.\u001b[39mMPI_Get_version\u001b[38;5;241m.\u001b[39margtypes \u001b[38;5;241m=\u001b[39m [ct\u001b[38;5;241m.\u001b[39mPOINTER(ct\u001b[38;5;241m.\u001b[39mc_int)] \u001b[38;5;241m*\u001b[39m \u001b[38;5;241m2\u001b[39m\n",
            "File \u001b[1;32mc:\\Users\\Adesh Punde\\AppData\\Local\\Programs\\Python\\Python312\\Lib\\site-packages\\mpi4py\\_mpiabi.py:144\u001b[0m, in \u001b[0;36m_dlopen_libmpi\u001b[1;34m(libmpi)\u001b[0m\n\u001b[0;32m    142\u001b[0m     \u001b[38;5;28;01mexcept\u001b[39;00m \u001b[38;5;167;01mAttributeError\u001b[39;00m \u001b[38;5;28;01mas\u001b[39;00m exc:\n\u001b[0;32m    143\u001b[0m         errors\u001b[38;5;241m.\u001b[39mappend(\u001b[38;5;28mstr\u001b[39m(exc))\n\u001b[1;32m--> 144\u001b[0m \u001b[38;5;28;01mraise\u001b[39;00m \u001b[38;5;167;01mRuntimeError\u001b[39;00m(\u001b[38;5;124m\"\u001b[39m\u001b[38;5;130;01m\\n\u001b[39;00m\u001b[38;5;124m\"\u001b[39m\u001b[38;5;241m.\u001b[39mjoin(errors))\n",
            "\u001b[1;31mRuntimeError\u001b[0m: cannot load MPI library\nCould not find module 'C:\\Users\\Adesh Punde\\AppData\\Roaming\\Python\\DLLs' (or one of its dependencies). Try using the full path with constructor syntax.\nCould not find module 'C:\\Users\\Adesh Punde\\AppData\\Roaming\\Python\\Library\\bin' (or one of its dependencies). Try using the full path with constructor syntax.\nCould not find module 'c:\\Users\\Adesh Punde\\AppData\\Local\\Programs\\Python\\Python312\\DLLs\\impi.dll' (or one of its dependencies). Try using the full path with constructor syntax.\nCould not find module 'c:\\Users\\Adesh Punde\\AppData\\Local\\Programs\\Python\\Python312\\DLLs\\msmpi.dll' (or one of its dependencies). Try using the full path with constructor syntax.\nCould not find module 'c:\\Users\\Adesh Punde\\AppData\\Local\\Programs\\Python\\Python312\\Library\\bin' (or one of its dependencies). Try using the full path with constructor syntax.\nCould not find module 'impi.dll' (or one of its dependencies). Try using the full path with constructor syntax.\nCould not find module 'msmpi.dll' (or one of its dependencies). Try using the full path with constructor syntax."
          ]
        }
      ],
      "source": [
        "import tensorflow as tf\n",
        "from mpi4py import MPI\n",
        "\n",
        "# Initialize MPI\n",
        "comm = MPI.COMM_WORLD\n",
        "rank = comm.Get_rank()\n",
        "size = comm.Get_size()\n",
        "\n",
        "# Model definition (same for all nodes)\n",
        "model = tf.keras.models.Sequential([\n",
        "    tf.keras.layers.Conv2D(32, (3,3), activation='relu', input_shape=(28,28,1)),\n",
        "    tf.keras.layers.MaxPooling2D((2,2)),\n",
        "    tf.keras.layers.Flatten(),\n",
        "    tf.keras.layers.Dense(10, activation='softmax')\n",
        "])\n",
        "\n",
        "# Compile once (before training loop)\n",
        "model.compile(optimizer='adam',\n",
        "              loss='sparse_categorical_crossentropy',\n",
        "              metrics=['accuracy'])\n",
        "\n",
        "# Load and prepare data\n",
        "mnist = tf.keras.datasets.mnist\n",
        "(x_train, y_train), (x_test, y_test) = mnist.load_data()\n",
        "x_train = x_train[..., tf.newaxis] / 255.0  # Add channel dim\n",
        "x_test = x_test[..., tf.newaxis] / 255.0\n",
        "\n",
        "def train(model, x_train, y_train):\n",
        "    # Data splitting\n",
        "    n = len(x_train)\n",
        "    chunk_size = n // size\n",
        "    start = rank * chunk_size\n",
        "    end = (rank + 1) * chunk_size if rank != size-1 else n\n",
        "\n",
        "    # Local training\n",
        "    model.fit(x_train[start:end], y_train[start:end],\n",
        "              epochs=1, batch_size=32, verbose=0)\n",
        "\n",
        "    # Weight synchronization\n",
        "    weights = model.get_weights()\n",
        "    weights = comm.allreduce(weights, op=MPI.SUM)\n",
        "    model.set_weights([w / size for w in weights])\n",
        "\n",
        "# Training loop\n",
        "epochs = 5\n",
        "for epoch in range(epochs):\n",
        "    train(model, x_train, y_train)\n",
        "\n",
        "    # Rank 0 handles evaluation\n",
        "    if rank == 0:\n",
        "        test_loss, test_acc = model.evaluate(x_test, y_test, verbose=0)\n",
        "        print(f\"Epoch {epoch+1}: Test accuracy = {test_acc:.4f}\")\n"
      ]
    }
  ],
  "metadata": {
    "colab": {
      "provenance": []
    },
    "kernelspec": {
      "display_name": "Python 3",
      "name": "python3"
    },
    "language_info": {
      "codemirror_mode": {
        "name": "ipython",
        "version": 3
      },
      "file_extension": ".py",
      "mimetype": "text/x-python",
      "name": "python",
      "nbconvert_exporter": "python",
      "pygments_lexer": "ipython3",
      "version": "3.12.6"
    }
  },
  "nbformat": 4,
  "nbformat_minor": 0
}
