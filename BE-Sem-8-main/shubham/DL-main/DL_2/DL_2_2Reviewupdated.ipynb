{
  "cells": [
    {
      "cell_type": "code",
      "execution_count": 9,
      "id": "ae457793-932f-4dc9-9be3-5c98e736c791",
      "metadata": {
        "colab": {
          "base_uri": "https://localhost:8080/"
        },
        "id": "ae457793-932f-4dc9-9be3-5c98e736c791",
        "outputId": "9d699554-c51a-4922-a939-a92f66b220fd"
      },
      "outputs": [
        {
          "output_type": "stream",
          "name": "stdout",
          "text": [
            "Libraries imported successfully.\n"
          ]
        }
      ],
      "source": [
        "# 1.1 Import Libraries\n",
        "import pandas as pd\n",
        "import numpy as np\n",
        "import re # Regular expressions for text cleaning\n",
        "import nltk # Natural Language Toolkit\n",
        "from nltk.corpus import stopwords\n",
        "from nltk.stem import PorterStemmer # Optional: for stemming\n",
        "from sklearn.model_selection import train_test_split\n",
        "from sklearn.feature_extraction.text import TfidfVectorizer\n",
        "from sklearn.linear_model import LogisticRegression\n",
        "from sklearn.metrics import accuracy_score, classification_report, confusion_matrix\n",
        "import joblib # To save/load models and vectorizer (optional)\n",
        "import csv\n",
        "\n",
        "print(\"Libraries imported successfully.\")"
      ]
    },
    {
      "cell_type": "code",
      "execution_count": 11,
      "id": "6d3eddf1-7fd8-4911-86ef-c4c9f02151d0",
      "metadata": {
        "colab": {
          "base_uri": "https://localhost:8080/"
        },
        "id": "6d3eddf1-7fd8-4911-86ef-c4c9f02151d0",
        "outputId": "88995862-1243-49d2-8ed3-70311c043475"
      },
      "outputs": [
        {
          "output_type": "stream",
          "name": "stdout",
          "text": [
            "\n",
            "Dataset Info:\n",
            "<class 'pandas.core.frame.DataFrame'>\n",
            "MultiIndex: 35723 entries, ('\"One of the other reviewers has mentioned that after watching just 1 Oz episode you\\'ll be hooked. They are right', ' as this is exactly what happened with me.<br /><br />The first thing that struck me about Oz was its brutality and unflinching scenes of violence', ' which set in right from the word GO. Trust me', ' this is not a show for the faint hearted or timid. This show pulls no punches with regards to drugs', ' sex or violence. Its is hardcore', ' in the classic use of the word.<br /><br />It is called OZ as that is the nickname given to the Oswald Maximum Security State Penitentary. It focuses mainly on Emerald City', ' an experimental section of the prison where all the cells have glass fronts and face inwards', ' so privacy is not high on the agenda. Em City is home to many..Aryans', ' Muslims', ' gangstas', ' Latinos', ' Christians', ' Italians', ' Irish and more....so scuffles', ' death stares', \" dodgy dealings and shady agreements are never far away.<br /><br />I would say the main appeal of the show is due to the fact that it goes where other shows wouldn't dare. Forget pretty pictures painted for mainstream audiences\", ' forget charm', \" forget romance...OZ doesn't mess around. The first episode I ever saw struck me as so nasty it was surreal\", \" I couldn't say I was ready for it\", ' but as I watched more', ' I developed a taste for Oz', ' and got accustomed to the high levels of graphic violence. Not just violence', \" but injustice (crooked guards who'll be sold out for a nickel\", \" inmates who'll kill on order and get away with it\", ' well mannered', ' middle class inmates being turned into prison bitches due to their lack of street skills or prison experience) Watching Oz') to ('\"This movie is like Happiness meets Lost in Translation with a Sixth Sense ending (or maybe a Crying Game surprise)', \" and the best soundtrack I've probably ever heard...if that all make sense.<br /><br />The first 30 seconds pretty much tells you you're in for a twisted ride. (I was surprised no one walked out right away during the Brooklyn premiere.) But from there\", ' the film settles down into a talk-fest between two really damaged people', \" Daphne and Buddy.<br /><br />They're lonely\", ' mess-up', ' and boy do they talk about sex. Daphne brings to life her most interesting tales of escorting', \" some are quite funny (Mr. Chang) some disturbing (the Harlan scenes with music that tells us what we see might now be what's going on\", ' or what Daphne is really feeling)', ' and because I have a friend who used to escort', ' I might add', ' most seem quite real. <br /><br />You Are Alone is multi-layered and mostly brilliant. Okay', ' maybe a couple minutes less of the talking', \" and I don't know that we'd have missed anything. <br /><br />Then again\", ' I need to see it again knowing the ending.<br /><br />I like this movie.<br /><br />(The director asked people in the Brooklyn audience to write a review on IMDb because a lot of people read them. Request granted.)\"', 'positive', nan, nan, nan, nan, nan, nan, nan, nan, nan, nan, nan)\n",
            "Data columns (total 2 columns):\n",
            " #   Column     Non-Null Count  Dtype \n",
            "---  ------     --------------  ----- \n",
            " 0   review     576 non-null    object\n",
            " 1   sentiment  272 non-null    object\n",
            "dtypes: object(2)\n",
            "memory usage: 14.6+ MB\n",
            "\n",
            "First 5 rows:\n",
            "                                                                                                                                                                                                                                                                                                                                                                                                                                                                                                                                                                                                                                                                                                                                                                                                                                                                                                                                                                                                                                                                                           review  \\\n",
            "\"One of the other reviewers has mentioned that ... as this is exactly what happened with me.<br />... which set in right from the word GO. Trust me      this is not a show for the faint hearted or tim...  sex or violence. Its is hardcore                   in the classic use of the word.<br /><br />It ...  an experimental section of the prison where al...  so privacy is not high on the agenda. Em City ...  Muslims     gangstas           Latinos         Christians                         Italians                                           Irish and more....so scuffles  death stares  dodgy dealings and shady agreements are never ...  forget charm  forget romance...OZ doesn't mess around. The f...  I couldn't say I was ready for it  but as I watched more  I developed a taste for Oz  and got accustomed to the high levels of graph...  but injustice (crooked guards who'll be sold o...  inmates who'll kill on order and get away with it  well mannered  middle class inmates being turned into prison ...   you may become comfortable with what is uncom...   \n",
            "\"A wonderful little production. <br /><br />The... and sometimes discomforting                        sense of realism to the entire piece. <br /><br... not only is it well worth the watching but it i...  rather than use the traditional 'dream' techni...  particularly with the scenes concerning Orton ... positive                                           NaN                                                NaN         NaN                NaN             NaN                                NaN                                                NaN                            NaN           NaN                                                NaN           NaN                                                NaN                                NaN                    NaN                         NaN                                                NaN                                                NaN                                                NaN            NaN                                                                                               NaN   \n",
            "\"I thought this was a wonderful way to spend ti... sitting in the air conditioned theater and watc... but the dialogue is witty and the characters ar... I thought it was proof that Woody Allen is stil...  in this she managed to tone down her \"\"sexy\"\" ...  but spirited young woman.<br /><br />This may ...  but it was wittier than \"\"Devil Wears Prada\"\" ... positive                                           NaN         NaN                NaN             NaN                                NaN                                                NaN                            NaN           NaN                                                NaN           NaN                                                NaN                                NaN                    NaN                         NaN                                                NaN                                                NaN                                                NaN            NaN                                                                                               NaN   \n",
            "\"Basically there's a family where a little boy ... Jake decides to become Rambo and kill the zombi... first of all when you're going to make a film y... and instead i watched a drama with some meaning... negative                                           NaN                                                NaN                                                NaN                                                NaN         NaN                NaN             NaN                                NaN                                                NaN                            NaN           NaN                                                NaN           NaN                                                NaN                                NaN                    NaN                         NaN                                                NaN                                                NaN                                                NaN            NaN                                                                                               NaN   \n",
            "\"Petter Mattei's \"\"Love in the Time of Money\"\" ... power and success do to people in the different... the director transfers the action to the presen... or another to the next person                       but no one seems to know the previous point of...  the film has a sophisticated luxurious look. W...  as one discerns is the case with most of the p...  Rosario Dawson                                     Carol Kane  Michael Imperioli  Adrian Grenier  and the rest of the talented cast  make these characters come alive.<br /><br />W... positive                       NaN           NaN                                                NaN           NaN                                                NaN                                NaN                    NaN                         NaN                                                NaN                                                NaN                                                NaN            NaN                                                                                               NaN   \n",
            "\n",
            "                                                                                                                                                                                                                                                                                                                                                                                                                                                                                                                                                                                                                                                                                                                                                                                                                                                                                                                                                                                                                                               sentiment  \n",
            "\"One of the other reviewers has mentioned that ... as this is exactly what happened with me.<br />... which set in right from the word GO. Trust me      this is not a show for the faint hearted or tim...  sex or violence. Its is hardcore                   in the classic use of the word.<br /><br />It ...  an experimental section of the prison where al...  so privacy is not high on the agenda. Em City ...  Muslims     gangstas           Latinos         Christians                         Italians                                           Irish and more....so scuffles  death stares  dodgy dealings and shady agreements are never ...  forget charm  forget romance...OZ doesn't mess around. The f...  I couldn't say I was ready for it  but as I watched more  I developed a taste for Oz  and got accustomed to the high levels of graph...  but injustice (crooked guards who'll be sold o...  inmates who'll kill on order and get away with it  well mannered  middle class inmates being turned into prison ...  positive  \n",
            "\"A wonderful little production. <br /><br />The... and sometimes discomforting                        sense of realism to the entire piece. <br /><br... not only is it well worth the watching but it i...  rather than use the traditional 'dream' techni...  particularly with the scenes concerning Orton ... positive                                           NaN                                                NaN         NaN                NaN             NaN                                NaN                                                NaN                            NaN           NaN                                                NaN           NaN                                                NaN                                NaN                    NaN                         NaN                                                NaN                                                NaN                                                NaN            NaN                                                      NaN  \n",
            "\"I thought this was a wonderful way to spend ti... sitting in the air conditioned theater and watc... but the dialogue is witty and the characters ar... I thought it was proof that Woody Allen is stil...  in this she managed to tone down her \"\"sexy\"\" ...  but spirited young woman.<br /><br />This may ...  but it was wittier than \"\"Devil Wears Prada\"\" ... positive                                           NaN         NaN                NaN             NaN                                NaN                                                NaN                            NaN           NaN                                                NaN           NaN                                                NaN                                NaN                    NaN                         NaN                                                NaN                                                NaN                                                NaN            NaN                                                      NaN  \n",
            "\"Basically there's a family where a little boy ... Jake decides to become Rambo and kill the zombi... first of all when you're going to make a film y... and instead i watched a drama with some meaning... negative                                           NaN                                                NaN                                                NaN                                                NaN         NaN                NaN             NaN                                NaN                                                NaN                            NaN           NaN                                                NaN           NaN                                                NaN                                NaN                    NaN                         NaN                                                NaN                                                NaN                                                NaN            NaN                                                      NaN  \n",
            "\"Petter Mattei's \"\"Love in the Time of Money\"\" ... power and success do to people in the different... the director transfers the action to the presen... or another to the next person                       but no one seems to know the previous point of...  the film has a sophisticated luxurious look. W...  as one discerns is the case with most of the p...  Rosario Dawson                                     Carol Kane  Michael Imperioli  Adrian Grenier  and the rest of the talented cast  make these characters come alive.<br /><br />W... positive                       NaN           NaN                                                NaN           NaN                                                NaN                                NaN                    NaN                         NaN                                                NaN                                                NaN                                                NaN            NaN                                                      NaN  \n",
            "\n",
            "Sentiment value counts (1: positive, 0: negative):\n",
            "sentiment\n",
            "1.0    145\n",
            "0.0    127\n",
            "Name: count, dtype: int64\n"
          ]
        }
      ],
      "source": [
        "# Load the CSV file (after downloading from Kaggle)\n",
        "file_path = \"IMDB Dataset.csv\"  # Adjust path as needed\n",
        "df = pd.read_csv(\n",
        "    \"IMDB Dataset.csv\",\n",
        "    quoting=csv.QUOTE_NONE,\n",
        "    encoding='utf-8',\n",
        "    on_bad_lines='skip'  # <-- updated argument for pandas 2.0+\n",
        ")\n",
        "# Display basic info and first few rows\n",
        "print(\"\\nDataset Info:\")\n",
        "df.info()\n",
        "\n",
        "print(\"\\nFirst 5 rows:\")\n",
        "print(df.head())\n",
        "\n",
        "# Map sentiment labels to numerical values (positive: 1, negative: 0)\n",
        "df['sentiment'] = df['sentiment'].map({'positive': 1, 'negative': 0})\n",
        "\n",
        "print(\"\\nSentiment value counts (1: positive, 0: negative):\")\n",
        "print(df['sentiment'].value_counts())"
      ]
    },
    {
      "cell_type": "code",
      "execution_count": 14,
      "id": "4e3df228-02db-41ce-82a4-8ec5c08d3d35",
      "metadata": {
        "colab": {
          "base_uri": "https://localhost:8080/"
        },
        "id": "4e3df228-02db-41ce-82a4-8ec5c08d3d35",
        "outputId": "47eca10f-a45d-4304-f9fb-7d92872fbf68"
      },
      "outputs": [
        {
          "output_type": "stream",
          "name": "stdout",
          "text": [
            "\n",
            "Preprocessing text data... (This may take a few minutes)\n",
            "Text preprocessing complete.\n",
            "\n",
            "Example Preprocessing:\n",
            "Original:  you may become comfortable with what is uncomfortable viewing....thats if you can get in touch with your darker side.\"...\n",
            "Cleaned: may become comfortable uncomfortable viewingthats get touch darker side...\n"
          ]
        },
        {
          "output_type": "stream",
          "name": "stderr",
          "text": [
            "[nltk_data] Downloading package stopwords to /root/nltk_data...\n",
            "[nltk_data]   Package stopwords is already up-to-date!\n",
            "<ipython-input-14-f7670c47e264>:30: SettingWithCopyWarning: \n",
            "A value is trying to be set on a copy of a slice from a DataFrame.\n",
            "Try using .loc[row_indexer,col_indexer] = value instead\n",
            "\n",
            "See the caveats in the documentation: https://pandas.pydata.org/pandas-docs/stable/user_guide/indexing.html#returning-a-view-versus-a-copy\n",
            "  df['cleaned_review'] = df['review'].apply(preprocess_text)\n"
          ]
        }
      ],
      "source": [
        "\n",
        "\n",
        "# Download stopwords if not already downloaded\n",
        "nltk.download('stopwords')\n",
        "\n",
        "# Set of English stopwords\n",
        "stop_words = set(stopwords.words('english'))\n",
        "\n",
        "\n",
        "# Preprocessing function\n",
        "def preprocess_text(text):\n",
        "    if not isinstance(text, str):\n",
        "        return \"\"\n",
        "    # Remove HTML tags\n",
        "    text = re.sub(r'<.*?>', '', text)\n",
        "    # Remove punctuation and numbers\n",
        "    text = re.sub(r'[^a-zA-Z\\s]', '', text)\n",
        "    # Convert to lowercase\n",
        "    text = text.lower()\n",
        "    # Tokenize and remove stopwords\n",
        "    words = text.split()\n",
        "    words = [word for word in words if word not in stop_words]\n",
        "    # Optional: Apply stemming\n",
        "    # words = [ps.stem(word) for word in words]\n",
        "    return ' '.join(words)\n",
        "\n",
        "# Drop rows with missing reviews\n",
        "df = df.dropna(subset=['review'])\n",
        "\n",
        "# Apply preprocessing\n",
        "print(\"\\nPreprocessing text data... (This may take a few minutes)\")\n",
        "df['cleaned_review'] = df['review'].apply(preprocess_text)\n",
        "print(\"Text preprocessing complete.\")\n",
        "\n",
        "# Show an example\n",
        "print(\"\\nExample Preprocessing:\")\n",
        "print(\"Original:\", df['review'].iloc[0][:200] + \"...\")\n",
        "print(\"Cleaned:\", df['cleaned_review'].iloc[0][:200] + \"...\")\n"
      ]
    },
    {
      "cell_type": "code",
      "execution_count": 16,
      "id": "36f29790-2838-4954-abc1-33d000552dba",
      "metadata": {
        "colab": {
          "base_uri": "https://localhost:8080/"
        },
        "id": "36f29790-2838-4954-abc1-33d000552dba",
        "outputId": "effe9017-33c5-486c-979d-136065640e6f"
      },
      "outputs": [
        {
          "output_type": "stream",
          "name": "stdout",
          "text": [
            "\n",
            "Data Split:\n",
            "Training set size: 204 samples\n",
            "Testing set size: 68 samples\n",
            "\n",
            "Fitting TF-IDF Vectorizer and transforming training data...\n",
            "Transforming test data...\n",
            "TF-IDF transformation complete.\n",
            "Shape of TF-IDF matrix (Train): (204, 1092)\n",
            "Shape of TF-IDF matrix (Test): (68, 1092)\n"
          ]
        }
      ],
      "source": [
        "df = df.dropna(subset=['review', 'sentiment'])\n",
        "\n",
        "# 3.1 Split Data into Training and Testing Sets\n",
        "X = df['cleaned_review']\n",
        "y = df['sentiment']\n",
        "\n",
        "X_train, X_test, y_train, y_test = train_test_split(X, y, test_size=0.25, random_state=42, stratify=y)\n",
        "# stratify=y ensures the proportion of positive/negative reviews is similar in train and test sets\n",
        "\n",
        "print(f\"\\nData Split:\")\n",
        "print(f\"Training set size: {len(X_train)} samples\")\n",
        "print(f\"Testing set size: {len(X_test)} samples\")\n",
        "\n",
        "# 3.2 TF-IDF Vectorization\n",
        "# Initialize TF-IDF Vectorizer\n",
        "# max_features limits the vocabulary size to the most frequent terms, useful for large datasets\n",
        "tfidf_vectorizer = TfidfVectorizer(max_features=5000) # You can tune max_features\n",
        "\n",
        "# Fit the vectorizer on the training data and transform the training data\n",
        "print(\"\\nFitting TF-IDF Vectorizer and transforming training data...\")\n",
        "X_train_tfidf = tfidf_vectorizer.fit_transform(X_train)\n",
        "\n",
        "# Transform the test data using the *same* fitted vectorizer\n",
        "print(\"Transforming test data...\")\n",
        "X_test_tfidf = tfidf_vectorizer.transform(X_test)\n",
        "\n",
        "print(\"TF-IDF transformation complete.\")\n",
        "print(f\"Shape of TF-IDF matrix (Train): {X_train_tfidf.shape}\") # (num_samples, num_features)\n",
        "print(f\"Shape of TF-IDF matrix (Test): {X_test_tfidf.shape}\")"
      ]
    },
    {
      "cell_type": "code",
      "execution_count": 17,
      "id": "ecd2f1a8-0409-4e86-9565-facc6fb35bdb",
      "metadata": {
        "colab": {
          "base_uri": "https://localhost:8080/"
        },
        "id": "ecd2f1a8-0409-4e86-9565-facc6fb35bdb",
        "outputId": "94714ae2-41be-453b-9d5c-9745202043ed"
      },
      "outputs": [
        {
          "output_type": "stream",
          "name": "stdout",
          "text": [
            "\n",
            "Training Deep Neural Network model...\n",
            "Epoch 1/10\n"
          ]
        },
        {
          "output_type": "stream",
          "name": "stderr",
          "text": [
            "/usr/local/lib/python3.11/dist-packages/keras/src/layers/core/dense.py:87: UserWarning: Do not pass an `input_shape`/`input_dim` argument to a layer. When using Sequential models, prefer using an `Input(shape)` object as the first layer in the model instead.\n",
            "  super().__init__(activity_regularizer=activity_regularizer, **kwargs)\n"
          ]
        },
        {
          "output_type": "stream",
          "name": "stdout",
          "text": [
            "\u001b[1m1/1\u001b[0m \u001b[32m━━━━━━━━━━━━━━━━━━━━\u001b[0m\u001b[37m\u001b[0m \u001b[1m2s\u001b[0m 2s/step - accuracy: 0.4233 - loss: 0.6938 - val_accuracy: 0.3171 - val_loss: 0.7002\n",
            "Epoch 2/10\n",
            "\u001b[1m1/1\u001b[0m \u001b[32m━━━━━━━━━━━━━━━━━━━━\u001b[0m\u001b[37m\u001b[0m \u001b[1m0s\u001b[0m 98ms/step - accuracy: 0.5890 - loss: 0.6886 - val_accuracy: 0.3171 - val_loss: 0.7008\n",
            "Epoch 3/10\n",
            "\u001b[1m1/1\u001b[0m \u001b[32m━━━━━━━━━━━━━━━━━━━━\u001b[0m\u001b[37m\u001b[0m \u001b[1m0s\u001b[0m 93ms/step - accuracy: 0.6380 - loss: 0.6868 - val_accuracy: 0.3415 - val_loss: 0.7011\n",
            "Epoch 4/10\n",
            "\u001b[1m1/1\u001b[0m \u001b[32m━━━━━━━━━━━━━━━━━━━━\u001b[0m\u001b[37m\u001b[0m \u001b[1m0s\u001b[0m 160ms/step - accuracy: 0.6380 - loss: 0.6833 - val_accuracy: 0.3415 - val_loss: 0.7016\n",
            "Epoch 5/10\n",
            "\u001b[1m1/1\u001b[0m \u001b[32m━━━━━━━━━━━━━━━━━━━━\u001b[0m\u001b[37m\u001b[0m \u001b[1m0s\u001b[0m 116ms/step - accuracy: 0.6810 - loss: 0.6810 - val_accuracy: 0.3415 - val_loss: 0.7022\n",
            "Epoch 6/10\n",
            "\u001b[1m1/1\u001b[0m \u001b[32m━━━━━━━━━━━━━━━━━━━━\u001b[0m\u001b[37m\u001b[0m \u001b[1m0s\u001b[0m 97ms/step - accuracy: 0.7546 - loss: 0.6745 - val_accuracy: 0.3659 - val_loss: 0.7029\n",
            "Epoch 7/10\n",
            "\u001b[1m1/1\u001b[0m \u001b[32m━━━━━━━━━━━━━━━━━━━━\u001b[0m\u001b[37m\u001b[0m \u001b[1m0s\u001b[0m 138ms/step - accuracy: 0.8037 - loss: 0.6694 - val_accuracy: 0.3415 - val_loss: 0.7037\n",
            "Epoch 8/10\n",
            "\u001b[1m1/1\u001b[0m \u001b[32m━━━━━━━━━━━━━━━━━━━━\u001b[0m\u001b[37m\u001b[0m \u001b[1m0s\u001b[0m 139ms/step - accuracy: 0.7914 - loss: 0.6702 - val_accuracy: 0.3415 - val_loss: 0.7045\n",
            "Epoch 9/10\n",
            "\u001b[1m1/1\u001b[0m \u001b[32m━━━━━━━━━━━━━━━━━━━━\u001b[0m\u001b[37m\u001b[0m \u001b[1m0s\u001b[0m 141ms/step - accuracy: 0.8589 - loss: 0.6609 - val_accuracy: 0.3659 - val_loss: 0.7055\n",
            "Epoch 10/10\n",
            "\u001b[1m1/1\u001b[0m \u001b[32m━━━━━━━━━━━━━━━━━━━━\u001b[0m\u001b[37m\u001b[0m \u001b[1m0s\u001b[0m 132ms/step - accuracy: 0.8896 - loss: 0.6576 - val_accuracy: 0.3415 - val_loss: 0.7065\n",
            "Model training complete.\n",
            "\u001b[1m3/3\u001b[0m \u001b[32m━━━━━━━━━━━━━━━━━━━━\u001b[0m\u001b[37m\u001b[0m \u001b[1m0s\u001b[0m 14ms/step - accuracy: 0.4623 - loss: 0.6935\n",
            "\n",
            "Test Accuracy: 0.4559\n"
          ]
        }
      ],
      "source": [
        "from tensorflow.keras.models import Sequential\n",
        "from tensorflow.keras.layers import Dense, Dropout\n",
        "from tensorflow.keras.optimizers import Adam\n",
        "\n",
        "# Step 1: Define the DNN model\n",
        "dnn_model = Sequential()\n",
        "dnn_model.add(Dense(128, activation='relu', input_shape=(X_train_tfidf.shape[1],)))\n",
        "dnn_model.add(Dropout(0.3))\n",
        "dnn_model.add(Dense(64, activation='relu'))\n",
        "dnn_model.add(Dropout(0.3))\n",
        "dnn_model.add(Dense(1, activation='sigmoid'))  # Binary classification\n",
        "\n",
        "# Step 2: Compile the model\n",
        "dnn_model.compile(\n",
        "    optimizer=Adam(learning_rate=0.001),\n",
        "    loss='binary_crossentropy',\n",
        "    metrics=['accuracy']\n",
        ")\n",
        "\n",
        "# Step 3: Train the model\n",
        "print(\"\\nTraining Deep Neural Network model...\")\n",
        "history = dnn_model.fit(\n",
        "    X_train_tfidf.toarray(), y_train,  # TF-IDF is usually sparse, convert to dense\n",
        "    epochs=10,\n",
        "    batch_size=512,\n",
        "    validation_split=0.2,\n",
        "    verbose=1\n",
        ")\n",
        "print(\"Model training complete.\")\n",
        "\n",
        "# Step 4: Evaluate on test set\n",
        "loss, accuracy = dnn_model.evaluate(X_test_tfidf.toarray(), y_test)\n",
        "print(f\"\\nTest Accuracy: {accuracy:.4f}\")\n"
      ]
    },
    {
      "cell_type": "code",
      "execution_count": 18,
      "id": "d4b25d67-d54c-4ddc-9f5a-50911915964d",
      "metadata": {
        "colab": {
          "base_uri": "https://localhost:8080/"
        },
        "id": "d4b25d67-d54c-4ddc-9f5a-50911915964d",
        "outputId": "8ee4482b-4e51-4064-9ea3-a11c1a38c8a7"
      },
      "outputs": [
        {
          "output_type": "stream",
          "name": "stdout",
          "text": [
            "\n",
            "Evaluating DNN model on the test set...\n",
            "\u001b[1m3/3\u001b[0m \u001b[32m━━━━━━━━━━━━━━━━━━━━\u001b[0m\u001b[37m\u001b[0m \u001b[1m0s\u001b[0m 27ms/step\n",
            "\n",
            "Accuracy: 0.4559\n",
            "\n",
            "Confusion Matrix:\n",
            "[[30  2]\n",
            " [35  1]]\n",
            "\n",
            "Classification Report:\n",
            "              precision    recall  f1-score   support\n",
            "\n",
            "Negative (0)       0.46      0.94      0.62        32\n",
            "Positive (1)       0.33      0.03      0.05        36\n",
            "\n",
            "    accuracy                           0.46        68\n",
            "   macro avg       0.40      0.48      0.33        68\n",
            "weighted avg       0.39      0.46      0.32        68\n",
            "\n"
          ]
        }
      ],
      "source": [
        "from sklearn.metrics import accuracy_score, confusion_matrix, classification_report\n",
        "import numpy as np\n",
        "\n",
        "# Predict probabilities on the test set\n",
        "print(\"\\nEvaluating DNN model on the test set...\")\n",
        "y_pred_prob = dnn_model.predict(X_test_tfidf.toarray())\n",
        "\n",
        "# Convert probabilities to binary predictions (0 or 1)\n",
        "y_pred = (y_pred_prob > 0.5).astype(\"int32\").flatten()\n",
        "\n",
        "# Calculate accuracy\n",
        "accuracy = accuracy_score(y_test, y_pred)\n",
        "print(f\"\\nAccuracy: {accuracy:.4f}\")\n",
        "\n",
        "# Display confusion matrix\n",
        "print(\"\\nConfusion Matrix:\")\n",
        "print(confusion_matrix(y_test, y_pred))\n",
        "# Format:\n",
        "# [[TN, FP],\n",
        "#  [FN, TP]]\n",
        "\n",
        "# Display classification report\n",
        "print(\"\\nClassification Report:\")\n",
        "print(classification_report(y_test, y_pred, target_names=['Negative (0)', 'Positive (1)']))"
      ]
    },
    {
      "cell_type": "code",
      "execution_count": 19,
      "id": "c6362279-faaf-469e-a902-e52c34672422",
      "metadata": {
        "colab": {
          "base_uri": "https://localhost:8080/"
        },
        "id": "c6362279-faaf-469e-a902-e52c34672422",
        "outputId": "12a4bf2c-5e90-471e-ff1b-9e900251f740"
      },
      "outputs": [
        {
          "output_type": "stream",
          "name": "stdout",
          "text": [
            "\n",
            "--- Testing on New Reviews ---\n",
            "Cleaned Reviews: ['movie absolutely fantastic acting superb storyline kept engaged throughout', 'waste time plot predictable characters incredibly boring would recommend film', 'okay movie great terrible either good moments overall quite average']\n",
            "Shape of TF-IDF for new reviews: (3, 1092)\n",
            "\u001b[1m1/1\u001b[0m \u001b[32m━━━━━━━━━━━━━━━━━━━━\u001b[0m\u001b[37m\u001b[0m \u001b[1m0s\u001b[0m 61ms/step\n",
            "\n",
            "Review: \"This movie was absolutely fantastic! The acting was superb and the storyline kept me engaged through...\"\n",
            "Predicted Sentiment: Negative (0) with confidence: 0.4836\n",
            "\n",
            "Review: \"What a waste of time. The plot was predictable and the characters were incredibly boring. I would no...\"\n",
            "Predicted Sentiment: Negative (0) with confidence: 0.4699\n",
            "\n",
            "Review: \"It was an okay movie, not great but not terrible either. Some good moments but overall quite average...\"\n",
            "Predicted Sentiment: Negative (0) with confidence: 0.4962\n"
          ]
        }
      ],
      "source": [
        "from sklearn.preprocessing import FunctionTransformer\n",
        "from tensorflow.keras.preprocessing.text import tokenizer_from_json\n",
        "\n",
        "# Sentiment mapping\n",
        "sentiment_labels = {1: 'Positive', 0: 'Negative'}\n",
        "\n",
        "# New review examples\n",
        "new_reviews = [\n",
        "    \"This movie was absolutely fantastic! The acting was superb and the storyline kept me engaged throughout.\",\n",
        "    \"What a waste of time. The plot was predictable and the characters were incredibly boring. I would not recommend this film.\",\n",
        "    \"It was an okay movie, not great but not terrible either. Some good moments but overall quite average.\"\n",
        "]\n",
        "\n",
        "print(\"\\n--- Testing on New Reviews ---\")\n",
        "\n",
        "# Step 1: Preprocess the new reviews\n",
        "cleaned_new_reviews = [preprocess_text(review) for review in new_reviews]\n",
        "print(\"Cleaned Reviews:\", cleaned_new_reviews)\n",
        "\n",
        "# Step 2: Transform to TF-IDF (use the same vectorizer you used for training)\n",
        "new_reviews_tfidf = tfidf_vectorizer.transform(cleaned_new_reviews)\n",
        "print(\"Shape of TF-IDF for new reviews:\", new_reviews_tfidf.shape)\n",
        "\n",
        "# Step 3: Predict using the DNN model\n",
        "new_predictions_prob = dnn_model.predict(new_reviews_tfidf.toarray())\n",
        "new_predictions = (new_predictions_prob > 0.5).astype(\"int32\").flatten()\n",
        "\n",
        "# Step 4: Print results\n",
        "for review, pred, prob in zip(new_reviews, new_predictions, new_predictions_prob):\n",
        "    print(f\"\\nReview: \\\"{review[:100]}...\\\"\")\n",
        "    print(f\"Predicted Sentiment: {sentiment_labels[pred]} ({pred}) with confidence: {prob[0]:.4f}\")\n"
      ]
    },
    {
      "cell_type": "code",
      "execution_count": 20,
      "id": "6685f45e-d3fc-4711-93a9-c5e4367f2cf7",
      "metadata": {
        "colab": {
          "base_uri": "https://localhost:8080/"
        },
        "id": "6685f45e-d3fc-4711-93a9-c5e4367f2cf7",
        "outputId": "8bf67da3-e8c2-40b1-b69d-638a7f4de314"
      },
      "outputs": [
        {
          "output_type": "stream",
          "name": "stdout",
          "text": [
            "\u001b[1m1/1\u001b[0m \u001b[32m━━━━━━━━━━━━━━━━━━━━\u001b[0m\u001b[37m\u001b[0m \u001b[1m0s\u001b[0m 39ms/step\n",
            "\n",
            "--- Testing on Extra Reviews ---\n",
            "\n",
            "Review: \"Honestly, I fell asleep halfway through. That should tell you enough....\"\n",
            "Predicted Sentiment: 😠 Negative (0.4814)\n",
            "\n",
            "Review: \"I've never laughed so hard in my life. 10/10 comedy!...\"\n",
            "Predicted Sentiment: 😠 Negative (0.4896)\n",
            "\n",
            "Review: \"This was the best worst movie I've ever seen. So bad it's actually good....\"\n",
            "Predicted Sentiment: 😊 Positive (0.5026)\n",
            "\n",
            "Review: \"Meh. It exists. That's about the best thing I can say....\"\n",
            "Predicted Sentiment: 😊 Positive (0.5201)\n",
            "\n",
            "Review: \"Wow. Just wow. I didn't expect much, and yet I was still disappointed....\"\n",
            "Predicted Sentiment: 😠 Negative (0.4966)\n",
            "\n",
            "Review: \"What a cinematic masterpiece. A pure work of art!...\"\n",
            "Predicted Sentiment: 😊 Positive (0.5023)\n",
            "\n",
            "Review: \"Two hours of my life I can never get back. Thanks a lot....\"\n",
            "Predicted Sentiment: 😠 Negative (0.4830)\n",
            "\n",
            "Review: \"It was alright, I guess. Not my favorite but watchable....\"\n",
            "Predicted Sentiment: 😠 Negative (0.4916)\n",
            "\n",
            "Review: \"Acting? What acting? Felt like a school play on a low budget....\"\n",
            "Predicted Sentiment: 😠 Negative (0.4972)\n",
            "\n",
            "Review: \"Not terrible, not great. Just average in every way....\"\n",
            "Predicted Sentiment: 😠 Negative (0.4961)\n"
          ]
        }
      ],
      "source": [
        "extra_reviews = [\n",
        "    \"Honestly, I fell asleep halfway through. That should tell you enough.\",\n",
        "    \"I've never laughed so hard in my life. 10/10 comedy!\",\n",
        "    \"This was the best worst movie I've ever seen. So bad it's actually good.\",\n",
        "    \"Meh. It exists. That's about the best thing I can say.\",\n",
        "    \"Wow. Just wow. I didn't expect much, and yet I was still disappointed.\",\n",
        "    \"What a cinematic masterpiece. A pure work of art!\",\n",
        "    \"Two hours of my life I can never get back. Thanks a lot.\",\n",
        "    \"It was alright, I guess. Not my favorite but watchable.\",\n",
        "    \"Acting? What acting? Felt like a school play on a low budget.\",\n",
        "    \"Not terrible, not great. Just average in every way.\"\n",
        "]\n",
        "# Clean and vectorize\n",
        "cleaned_extra_reviews = [preprocess_text(review) for review in extra_reviews]\n",
        "extra_reviews_tfidf = tfidf_vectorizer.transform(cleaned_extra_reviews)\n",
        "\n",
        "# Predict using the DNN model\n",
        "extra_predictions_prob = dnn_model.predict(extra_reviews_tfidf.toarray())\n",
        "extra_predictions = (extra_predictions_prob > 0.5).astype(\"int32\").flatten()\n",
        "\n",
        "# Output predictions\n",
        "print(\"\\n--- Testing on Extra Reviews ---\")\n",
        "for review, pred, prob in zip(extra_reviews, extra_predictions, extra_predictions_prob):\n",
        "    print(f\"\\nReview: \\\"{review[:100]}...\\\"\")\n",
        "    print(f\"Predicted Sentiment: {'😊 Positive' if pred == 1 else '😠 Negative'} ({prob[0]:.4f})\")\n"
      ]
    }
  ],
  "metadata": {
    "kernelspec": {
      "display_name": "Python 3 (ipykernel)",
      "language": "python",
      "name": "python3"
    },
    "language_info": {
      "codemirror_mode": {
        "name": "ipython",
        "version": 3
      },
      "file_extension": ".py",
      "mimetype": "text/x-python",
      "name": "python",
      "nbconvert_exporter": "python",
      "pygments_lexer": "ipython3",
      "version": "3.10.1"
    },
    "colab": {
      "provenance": []
    }
  },
  "nbformat": 4,
  "nbformat_minor": 5
}