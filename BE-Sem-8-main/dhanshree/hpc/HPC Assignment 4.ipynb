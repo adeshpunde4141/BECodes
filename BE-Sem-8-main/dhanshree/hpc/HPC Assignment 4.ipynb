{
 "cells": [
  {
   "cell_type": "code",
   "execution_count": 1,
   "metadata": {
    "colab": {
     "base_uri": "https://localhost:8080/"
    },
    "executionInfo": {
     "elapsed": 11,
     "status": "ok",
     "timestamp": 1744721892631,
     "user": {
      "displayName": "Anushree Kolte",
      "userId": "01713710611162199633"
     },
     "user_tz": -330
    },
    "id": "O8k-PRXsgbua",
    "outputId": "9d7d934d-5a8f-419d-f3de-01990d83708f"
   },
   "outputs": [
    {
     "name": "stderr",
     "output_type": "stream",
     "text": [
      "'ls' is not recognized as an internal or external command,\n",
      "operable program or batch file.\n"
     ]
    }
   ],
   "source": [
    "!ls /usr/local"
   ]
  },
  {
   "cell_type": "code",
   "execution_count": 2,
   "metadata": {
    "colab": {
     "base_uri": "https://localhost:8080/"
    },
    "executionInfo": {
     "elapsed": 1004,
     "status": "ok",
     "timestamp": 1744721897218,
     "user": {
      "displayName": "Anushree Kolte",
      "userId": "01713710611162199633"
     },
     "user_tz": -330
    },
    "id": "jmmwPrQHg_AD",
    "outputId": "4586ba04-131f-43c8-c4ee-dee700a5a0a9"
   },
   "outputs": [
    {
     "name": "stderr",
     "output_type": "stream",
     "text": [
      "'which' is not recognized as an internal or external command,\n",
      "operable program or batch file.\n"
     ]
    }
   ],
   "source": [
    "!which nvcc"
   ]
  },
  {
   "cell_type": "code",
   "execution_count": 3,
   "metadata": {
    "colab": {
     "base_uri": "https://localhost:8080/"
    },
    "executionInfo": {
     "elapsed": 16,
     "status": "ok",
     "timestamp": 1744721901611,
     "user": {
      "displayName": "Anushree Kolte",
      "userId": "01713710611162199633"
     },
     "user_tz": -330
    },
    "id": "M2raqOQIhGVB",
    "outputId": "d53a7724-d01b-4827-c52b-44abca5da0d2"
   },
   "outputs": [
    {
     "name": "stderr",
     "output_type": "stream",
     "text": [
      "'nvidia-smi' is not recognized as an internal or external command,\n",
      "operable program or batch file.\n"
     ]
    }
   ],
   "source": [
    "!nvidia-smi"
   ]
  },
  {
   "cell_type": "markdown",
   "metadata": {
    "id": "KL8KZe9XhW3j"
   },
   "source": [
    "**Vector Addition using CUDA**"
   ]
  },
  {
   "cell_type": "code",
   "execution_count": 4,
   "metadata": {
    "colab": {
     "base_uri": "https://localhost:8080/"
    },
    "executionInfo": {
     "elapsed": 1418,
     "status": "ok",
     "timestamp": 1744721978449,
     "user": {
      "displayName": "Anushree Kolte",
      "userId": "01713710611162199633"
     },
     "user_tz": -330
    },
    "id": "EMHxYlwvhf-n",
    "outputId": "adf9e575-f72f-4d7a-fa1d-1aa73cdc7a63"
   },
   "outputs": [
    {
     "name": "stdout",
     "output_type": "stream",
     "text": [
      "Writing vector_add.cu\n"
     ]
    }
   ],
   "source": [
    "%%writefile vector_add.cu\n",
    "\n",
    "#include <stdio.h>\n",
    "#include <stdlib.h>\n",
    "#include <cuda.h>\n",
    "\n",
    "#define N 1000000\n",
    "\n",
    "// CUDA Kernel to perform vector addition\n",
    "__global__ void vectorAdd(int* A, int* B, int* C, int n) {\n",
    "  int i = blockIdx.x * blockDim.x + threadIdx.x;\n",
    "  if (i < n) {\n",
    "    C[i] = A[i] + B[i];\n",
    "  }\n",
    "}\n",
    "\n",
    "// Fill array with random integers\n",
    "void fillArray(int *arr, int n){\n",
    "  for (int i = 0; i < n; i++) {\n",
    "    arr[i] = rand() % 100;\n",
    "  }\n",
    "}\n",
    "\n",
    "int main() {\n",
    "  int size = N * sizeof(int);\n",
    "\n",
    "  // Allocate memory on host\n",
    "  int *h_A = (int*)malloc(size);\n",
    "  int *h_B = (int*)malloc(size);\n",
    "  int *h_C = (int*)malloc(size);\n",
    "\n",
    "  // Initialize arrays on host\n",
    "  fillArray(h_A, N);\n",
    "  fillArray(h_B, N);\n",
    "\n",
    "  // Allocate memory on device\n",
    "  int *d_A, *d_B, *d_C;\n",
    "  cudaMalloc((void**)&d_A, size);\n",
    "  cudaMalloc((void**)&d_B, size);\n",
    "  cudaMalloc((void**)&d_C, size);\n",
    "\n",
    "  // Copy data from host to device\n",
    "  cudaMemcpy(d_A, h_A, size, cudaMemcpyHostToDevice);\n",
    "  cudaMemcpy(d_B, h_B, size, cudaMemcpyHostToDevice);\n",
    "\n",
    "  // Launch kernel on GPU\n",
    "  int threadsPerBlock = 256;\n",
    "  int blocksPerGrid = (N + threadsPerBlock - 1) / threadsPerBlock;\n",
    "  vectorAdd<<<blocksPerGrid, threadsPerBlock>>>(d_A, d_B, d_C, N);\n",
    "\n",
    "  // Copy result back to host\n",
    "  cudaMemcpy(h_C, d_C, size, cudaMemcpyDeviceToHost);\n",
    "\n",
    "  // Print the first 10 elements of the result\n",
    "  printf(\"Vector Addition Result (first 10 element):\\n\");\n",
    "  for (int i = 0; i < 10; i++) {\n",
    "    printf(\"%d + %d = %d\\n\", h_A[i], h_B[i], h_C[i]);\n",
    "  }\n",
    "\n",
    "  // Free memory\n",
    "  cudaFree(d_A);\n",
    "  cudaFree(d_B);\n",
    "  cudaFree(d_C);\n",
    "  free(h_A);\n",
    "  free(h_B);\n",
    "  free(h_C);\n",
    "\n",
    "  return 0;\n",
    "}"
   ]
  },
  {
   "cell_type": "code",
   "execution_count": 5,
   "metadata": {
    "executionInfo": {
     "elapsed": 3659,
     "status": "ok",
     "timestamp": 1744721988893,
     "user": {
      "displayName": "Anushree Kolte",
      "userId": "01713710611162199633"
     },
     "user_tz": -330
    },
    "id": "Hi0TMkA5hBza"
   },
   "outputs": [
    {
     "name": "stderr",
     "output_type": "stream",
     "text": [
      "'nvcc' is not recognized as an internal or external command,\n",
      "operable program or batch file.\n"
     ]
    }
   ],
   "source": [
    "!nvcc -arch=sm_75 vector_add.cu -o vector_add"
   ]
  },
  {
   "cell_type": "code",
   "execution_count": 6,
   "metadata": {
    "colab": {
     "base_uri": "https://localhost:8080/"
    },
    "executionInfo": {
     "elapsed": 2122,
     "status": "ok",
     "timestamp": 1744722024731,
     "user": {
      "displayName": "Anushree Kolte",
      "userId": "01713710611162199633"
     },
     "user_tz": -330
    },
    "id": "NsleC3-HiQwh",
    "outputId": "19fa7f37-5f22-483b-fc31-636df38db3c6"
   },
   "outputs": [
    {
     "name": "stderr",
     "output_type": "stream",
     "text": [
      "'.' is not recognized as an internal or external command,\n",
      "operable program or batch file.\n"
     ]
    }
   ],
   "source": [
    "!./vector_add"
   ]
  },
  {
   "cell_type": "markdown",
   "metadata": {
    "id": "NU5JLJvoidH0"
   },
   "source": [
    "**Matrix Multiplication using CUDA C**"
   ]
  },
  {
   "cell_type": "code",
   "execution_count": 7,
   "metadata": {
    "colab": {
     "base_uri": "https://localhost:8080/"
    },
    "executionInfo": {
     "elapsed": 1055,
     "status": "ok",
     "timestamp": 1744722871521,
     "user": {
      "displayName": "Anushree Kolte",
      "userId": "01713710611162199633"
     },
     "user_tz": -330
    },
    "id": "LpP5d1cJiZsK",
    "outputId": "9f50d9a7-b08a-425c-ad38-82a61be41c36"
   },
   "outputs": [
    {
     "name": "stdout",
     "output_type": "stream",
     "text": [
      "Writing matrix_mul.cu\n"
     ]
    }
   ],
   "source": [
    "%%writefile matrix_mul.cu\n",
    "\n",
    "#include <stdio.h>\n",
    "#include <stdlib.h>\n",
    "#include <cuda.h>\n",
    "\n",
    "#define N 16\n",
    "\n",
    "// CUDA Kernel to perform matrix multiplication\n",
    "__global__ void matrixMul(int *A, int *B, int *C, int width) {\n",
    "  int row = blockIdx.y * blockDim.y + threadIdx.y;\n",
    "  int col = blockIdx.x * blockDim.x + threadIdx.x;\n",
    "\n",
    "  // Check for valid matrix indices within bounds\n",
    "  if (row < width && col < width) {\n",
    "    int sum = 0;\n",
    "    for (int k = 0; k < width; ++k) {\n",
    "      sum += A[row * width + k] * B[k * width + col];\n",
    "    }\n",
    "    C[row * width + col] = sum;\n",
    "  }\n",
    "}\n",
    "\n",
    "void fillMatrix(int *matrix, int width) {\n",
    "  for (int i = 0; i < width * width; i++) {\n",
    "    matrix[i] = rand() % 10;\n",
    "  }\n",
    "}\n",
    "\n",
    "void printMatrix(int *matrix, int width) {\n",
    "  for (int i = 0; i < width; i++) {\n",
    "    for (int j = 0; j < width; j++) {\n",
    "      printf(\"%4d \", matrix[i * width + j]);\n",
    "    }\n",
    "    printf(\"\\n\");\n",
    "  }\n",
    "}\n",
    "\n",
    "int main() {\n",
    "  int size = N * N * sizeof(int);\n",
    "\n",
    "  // Allocate memory on host\n",
    "  int *h_A = (int*)malloc(size);\n",
    "  int *h_B = (int*)malloc(size);\n",
    "  int *h_C = (int*)malloc(size);\n",
    "\n",
    "  // Initialize matrices on host\n",
    "  fillMatrix(h_A, N);\n",
    "  fillMatrix(h_B, N);\n",
    "\n",
    "  // Allocate memory on device\n",
    "  int *d_A, *d_B, *d_C;\n",
    "  cudaMalloc((void**)&d_A, size);\n",
    "  cudaMalloc((void**)&d_B, size);\n",
    "  cudaMalloc((void**)&d_C, size);\n",
    "\n",
    "  // Copy data from host to device\n",
    "  cudaMemcpy(d_A, h_A, size, cudaMemcpyHostToDevice);\n",
    "  cudaMemcpy(d_B, h_B, size, cudaMemcpyHostToDevice);\n",
    "\n",
    "  // Define grid and block dimensions\n",
    "  dim3 dimBlock(16, 16);\n",
    "  dim3 dimGrid((N + dimBlock.x - 1) / dimBlock.x, (N + dimBlock.x - 1) / dimBlock.x);\n",
    "\n",
    "  //Launch kernel on GPU\n",
    "  matrixMul<<<dimGrid, dimBlock>>>(d_A, d_B, d_C, N);\n",
    "\n",
    "  // Copy result back to host\n",
    "  cudaMemcpy(h_C, d_C, size, cudaMemcpyDeviceToHost);\n",
    "\n",
    "  //Print results\n",
    "  printf(\"Matrix A:\\n\");\n",
    "  printMatrix(h_A, N);\n",
    "  printf(\"\\nMatrix B:\\n\");\n",
    "  printMatrix(h_B, N);\n",
    "  printf(\"\\nMatrix C (A x B):\\n\");\n",
    "  printMatrix(h_C, N);\n",
    "\n",
    "  //Free memory\n",
    "  cudaFree(d_A);\n",
    "  cudaFree(d_B);\n",
    "  cudaFree(d_C);\n",
    "  free(h_A);\n",
    "  free(h_B);\n",
    "  free(h_C);\n",
    "\n",
    "  return 0;\n",
    "}"
   ]
  },
  {
   "cell_type": "code",
   "execution_count": 8,
   "metadata": {
    "executionInfo": {
     "elapsed": 1784,
     "status": "ok",
     "timestamp": 1744722893207,
     "user": {
      "displayName": "Anushree Kolte",
      "userId": "01713710611162199633"
     },
     "user_tz": -330
    },
    "id": "a7keMQBGiZpc"
   },
   "outputs": [
    {
     "name": "stderr",
     "output_type": "stream",
     "text": [
      "'nvcc' is not recognized as an internal or external command,\n",
      "operable program or batch file.\n"
     ]
    }
   ],
   "source": [
    "!nvcc -arch=sm_75 matrix_mul.cu -o matrix_mul"
   ]
  },
  {
   "cell_type": "code",
   "execution_count": 9,
   "metadata": {
    "colab": {
     "base_uri": "https://localhost:8080/"
    },
    "executionInfo": {
     "elapsed": 699,
     "status": "ok",
     "timestamp": 1744722913890,
     "user": {
      "displayName": "Anushree Kolte",
      "userId": "01713710611162199633"
     },
     "user_tz": -330
    },
    "id": "RMqc1-g0iZmP",
    "outputId": "7f2e364b-3356-4c95-f8e2-36e06093da19"
   },
   "outputs": [
    {
     "name": "stderr",
     "output_type": "stream",
     "text": [
      "'.' is not recognized as an internal or external command,\n",
      "operable program or batch file.\n"
     ]
    }
   ],
   "source": [
    "!./matrix_mul"
   ]
  }
 ],
 "metadata": {
  "accelerator": "GPU",
  "colab": {
   "authorship_tag": "ABX9TyNjmM5kekem2A/CS4eGGOti",
   "gpuType": "T4",
   "provenance": []
  },
  "kernelspec": {
   "display_name": "Python 3",
   "name": "python3"
  },
  "language_info": {
   "codemirror_mode": {
    "name": "ipython",
    "version": 3
   },
   "file_extension": ".py",
   "mimetype": "text/x-python",
   "name": "python",
   "nbconvert_exporter": "python",
   "pygments_lexer": "ipython3",
   "version": "3.12.6"
  }
 },
 "nbformat": 4,
 "nbformat_minor": 0
}
